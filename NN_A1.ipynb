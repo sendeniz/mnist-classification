{
 "cells": [
  {
   "cell_type": "markdown",
   "metadata": {
    "colab_type": "text",
    "id": "6Wph1ARDuTqO"
   },
   "source": [
    "# Deep Learning and Neural Networks\n",
    "\n",
    "# Assignment 1"
   ]
  },
  {
   "cell_type": "markdown",
   "metadata": {
    "colab_type": "text",
    "id": "7BGAvNAjuTqS"
   },
   "source": [
    "## 1 Analyze distances between images"
   ]
  },
  {
   "cell_type": "code",
   "execution_count": 1,
   "metadata": {
    "colab": {},
    "colab_type": "code",
    "id": "xaT5y1wUuTqU"
   },
   "outputs": [],
   "source": [
    "#Start: 17:20 >60min\n",
    "# load libraries\n",
    "import pandas as pd\n",
    "import numpy as np\n",
    "\n",
    "from sklearn.metrics import pairwise_distances, confusion_matrix, mean_squared_error\n",
    "from scipy.spatial.distance import cdist, pdist, squareform\n",
    "from scipy.special import softmax\n",
    "from itertools import combinations\n",
    "\n",
    "import seaborn as sn\n",
    "import matplotlib.pyplot as plt\n",
    "import matplotlib.patches as mpatches\n",
    "import time"
   ]
  },
  {
   "cell_type": "code",
   "execution_count": 2,
   "metadata": {
    "colab": {},
    "colab_type": "code",
    "id": "YEBvf0XhuTqZ"
   },
   "outputs": [],
   "source": [
    "# import the data\n",
    "train_in_df = pd.read_csv('data/train_in.csv', header = None)\n",
    "train_out_df = pd.read_csv('data/train_out.csv', names = [\"Label\"])\n",
    "test_in_df = pd.read_csv('data/test_in.csv', header = None)\n",
    "test_out_df = pd.read_csv('data/test_out.csv', names = [\"Label\"])\n",
    "train_df = pd.concat([train_in_df, train_out_df], axis = 1)"
   ]
  },
  {
   "cell_type": "code",
   "execution_count": 3,
   "metadata": {
    "colab": {
     "base_uri": "https://localhost:8080/",
     "height": 359
    },
    "colab_type": "code",
    "id": "5k1beOBduTqd",
    "outputId": "45062ff8-6d6e-4e3b-9f9f-f40a1787a052"
   },
   "outputs": [
    {
     "data": {
      "text/html": [
       "<div>\n",
       "<style scoped>\n",
       "    .dataframe tbody tr th:only-of-type {\n",
       "        vertical-align: middle;\n",
       "    }\n",
       "\n",
       "    .dataframe tbody tr th {\n",
       "        vertical-align: top;\n",
       "    }\n",
       "\n",
       "    .dataframe thead th {\n",
       "        text-align: right;\n",
       "    }\n",
       "</style>\n",
       "<table border=\"1\" class=\"dataframe\">\n",
       "  <thead>\n",
       "    <tr style=\"text-align: right;\">\n",
       "      <th></th>\n",
       "      <th>Radius</th>\n",
       "      <th>Count</th>\n",
       "    </tr>\n",
       "  </thead>\n",
       "  <tbody>\n",
       "    <tr>\n",
       "      <th>0</th>\n",
       "      <td>15.8929</td>\n",
       "      <td>319</td>\n",
       "    </tr>\n",
       "    <tr>\n",
       "      <th>1</th>\n",
       "      <td>15.8055</td>\n",
       "      <td>252</td>\n",
       "    </tr>\n",
       "    <tr>\n",
       "      <th>2</th>\n",
       "      <td>16.7543</td>\n",
       "      <td>202</td>\n",
       "    </tr>\n",
       "    <tr>\n",
       "      <th>3</th>\n",
       "      <td>16.4134</td>\n",
       "      <td>131</td>\n",
       "    </tr>\n",
       "    <tr>\n",
       "      <th>4</th>\n",
       "      <td>16.2300</td>\n",
       "      <td>122</td>\n",
       "    </tr>\n",
       "    <tr>\n",
       "      <th>5</th>\n",
       "      <td>15.7010</td>\n",
       "      <td>88</td>\n",
       "    </tr>\n",
       "    <tr>\n",
       "      <th>6</th>\n",
       "      <td>15.2586</td>\n",
       "      <td>151</td>\n",
       "    </tr>\n",
       "    <tr>\n",
       "      <th>7</th>\n",
       "      <td>16.3446</td>\n",
       "      <td>166</td>\n",
       "    </tr>\n",
       "    <tr>\n",
       "      <th>8</th>\n",
       "      <td>15.5925</td>\n",
       "      <td>144</td>\n",
       "    </tr>\n",
       "    <tr>\n",
       "      <th>9</th>\n",
       "      <td>16.4174</td>\n",
       "      <td>132</td>\n",
       "    </tr>\n",
       "  </tbody>\n",
       "</table>\n",
       "</div>"
      ],
      "text/plain": [
       "    Radius  Count\n",
       "0  15.8929    319\n",
       "1  15.8055    252\n",
       "2  16.7543    202\n",
       "3  16.4134    131\n",
       "4  16.2300    122\n",
       "5  15.7010     88\n",
       "6  15.2586    151\n",
       "7  16.3446    166\n",
       "8  15.5925    144\n",
       "9  16.4174    132"
      ]
     },
     "execution_count": 3,
     "metadata": {},
     "output_type": "execute_result"
    }
   ],
   "source": [
    "# calculate the centers\n",
    "centers = train_df.groupby(\"Label\").mean()\n",
    "\n",
    "# calculate the radius\n",
    "## using scipy.spatial.distance.cdist and list comprehesion \n",
    "## takes each center from centers and calculates distance to associated Cloud C_d from train_in\n",
    "radius = [max(cdist(centers[:i+1], train_in_df.loc[train_df[\"Label\"]== i])[0]) for i in range(10)]\n",
    "radius = pd.Series(radius, name = \"Radius\").round(decimals = 4)\n",
    "\n",
    "# calculate the number of points of C_d\n",
    "n = pd.Series(train_df.groupby(\"Label\").count()[0], name = \"Count\")\n",
    "\n",
    "# show the data\n",
    "pd.concat([radius, n], axis = 1)"
   ]
  },
  {
   "cell_type": "code",
   "execution_count": 4,
   "metadata": {
    "colab": {
     "base_uri": "https://localhost:8080/",
     "height": 359
    },
    "colab_type": "code",
    "id": "84eeD2WXuTqi",
    "outputId": "1a91f849-df24-4f76-ec00-a73c7f01c692"
   },
   "outputs": [
    {
     "data": {
      "text/html": [
       "<div>\n",
       "<style scoped>\n",
       "    .dataframe tbody tr th:only-of-type {\n",
       "        vertical-align: middle;\n",
       "    }\n",
       "\n",
       "    .dataframe tbody tr th {\n",
       "        vertical-align: top;\n",
       "    }\n",
       "\n",
       "    .dataframe thead th {\n",
       "        text-align: right;\n",
       "    }\n",
       "</style>\n",
       "<table border=\"1\" class=\"dataframe\">\n",
       "  <thead>\n",
       "    <tr style=\"text-align: right;\">\n",
       "      <th></th>\n",
       "      <th>0</th>\n",
       "      <th>1</th>\n",
       "      <th>2</th>\n",
       "      <th>3</th>\n",
       "      <th>4</th>\n",
       "      <th>5</th>\n",
       "      <th>6</th>\n",
       "      <th>7</th>\n",
       "      <th>8</th>\n",
       "      <th>9</th>\n",
       "    </tr>\n",
       "  </thead>\n",
       "  <tbody>\n",
       "    <tr>\n",
       "      <th>0</th>\n",
       "      <td>0.000000</td>\n",
       "      <td>14.449608</td>\n",
       "      <td>9.334556</td>\n",
       "      <td>9.143734</td>\n",
       "      <td>10.769844</td>\n",
       "      <td>7.519296</td>\n",
       "      <td>8.154443</td>\n",
       "      <td>11.864555</td>\n",
       "      <td>9.907902</td>\n",
       "      <td>11.488875</td>\n",
       "    </tr>\n",
       "    <tr>\n",
       "      <th>1</th>\n",
       "      <td>14.449608</td>\n",
       "      <td>0.000000</td>\n",
       "      <td>10.125323</td>\n",
       "      <td>11.733233</td>\n",
       "      <td>10.173786</td>\n",
       "      <td>11.118800</td>\n",
       "      <td>10.614700</td>\n",
       "      <td>10.743154</td>\n",
       "      <td>10.086777</td>\n",
       "      <td>9.932094</td>\n",
       "    </tr>\n",
       "    <tr>\n",
       "      <th>2</th>\n",
       "      <td>9.334556</td>\n",
       "      <td>10.125323</td>\n",
       "      <td>0.000000</td>\n",
       "      <td>8.178285</td>\n",
       "      <td>7.932541</td>\n",
       "      <td>7.906796</td>\n",
       "      <td>7.331808</td>\n",
       "      <td>8.872531</td>\n",
       "      <td>7.077516</td>\n",
       "      <td>8.887748</td>\n",
       "    </tr>\n",
       "    <tr>\n",
       "      <th>3</th>\n",
       "      <td>9.143734</td>\n",
       "      <td>11.733233</td>\n",
       "      <td>8.178285</td>\n",
       "      <td>0.000000</td>\n",
       "      <td>9.087608</td>\n",
       "      <td>6.118750</td>\n",
       "      <td>9.302065</td>\n",
       "      <td>8.922401</td>\n",
       "      <td>7.020425</td>\n",
       "      <td>8.354350</td>\n",
       "    </tr>\n",
       "    <tr>\n",
       "      <th>4</th>\n",
       "      <td>10.769844</td>\n",
       "      <td>10.173786</td>\n",
       "      <td>7.932541</td>\n",
       "      <td>9.087608</td>\n",
       "      <td>0.000000</td>\n",
       "      <td>8.001517</td>\n",
       "      <td>8.782233</td>\n",
       "      <td>7.583012</td>\n",
       "      <td>7.380909</td>\n",
       "      <td>6.010408</td>\n",
       "    </tr>\n",
       "    <tr>\n",
       "      <th>5</th>\n",
       "      <td>7.519296</td>\n",
       "      <td>11.118800</td>\n",
       "      <td>7.906796</td>\n",
       "      <td>6.118750</td>\n",
       "      <td>8.001517</td>\n",
       "      <td>0.000000</td>\n",
       "      <td>6.698692</td>\n",
       "      <td>9.211954</td>\n",
       "      <td>6.967386</td>\n",
       "      <td>8.258538</td>\n",
       "    </tr>\n",
       "    <tr>\n",
       "      <th>6</th>\n",
       "      <td>8.154443</td>\n",
       "      <td>10.614700</td>\n",
       "      <td>7.331808</td>\n",
       "      <td>9.302065</td>\n",
       "      <td>8.782233</td>\n",
       "      <td>6.698692</td>\n",
       "      <td>0.000000</td>\n",
       "      <td>10.888237</td>\n",
       "      <td>8.587222</td>\n",
       "      <td>10.440004</td>\n",
       "    </tr>\n",
       "    <tr>\n",
       "      <th>7</th>\n",
       "      <td>11.864555</td>\n",
       "      <td>10.743154</td>\n",
       "      <td>8.872531</td>\n",
       "      <td>8.922401</td>\n",
       "      <td>7.583012</td>\n",
       "      <td>9.211954</td>\n",
       "      <td>10.888237</td>\n",
       "      <td>0.000000</td>\n",
       "      <td>8.467785</td>\n",
       "      <td>5.426474</td>\n",
       "    </tr>\n",
       "    <tr>\n",
       "      <th>8</th>\n",
       "      <td>9.907902</td>\n",
       "      <td>10.086777</td>\n",
       "      <td>7.077516</td>\n",
       "      <td>7.020425</td>\n",
       "      <td>7.380909</td>\n",
       "      <td>6.967386</td>\n",
       "      <td>8.587222</td>\n",
       "      <td>8.467785</td>\n",
       "      <td>0.000000</td>\n",
       "      <td>6.401166</td>\n",
       "    </tr>\n",
       "    <tr>\n",
       "      <th>9</th>\n",
       "      <td>11.488875</td>\n",
       "      <td>9.932094</td>\n",
       "      <td>8.887748</td>\n",
       "      <td>8.354350</td>\n",
       "      <td>6.010408</td>\n",
       "      <td>8.258538</td>\n",
       "      <td>10.440004</td>\n",
       "      <td>5.426474</td>\n",
       "      <td>6.401166</td>\n",
       "      <td>0.000000</td>\n",
       "    </tr>\n",
       "  </tbody>\n",
       "</table>\n",
       "</div>"
      ],
      "text/plain": [
       "           0          1          2          3          4          5  \\\n",
       "0   0.000000  14.449608   9.334556   9.143734  10.769844   7.519296   \n",
       "1  14.449608   0.000000  10.125323  11.733233  10.173786  11.118800   \n",
       "2   9.334556  10.125323   0.000000   8.178285   7.932541   7.906796   \n",
       "3   9.143734  11.733233   8.178285   0.000000   9.087608   6.118750   \n",
       "4  10.769844  10.173786   7.932541   9.087608   0.000000   8.001517   \n",
       "5   7.519296  11.118800   7.906796   6.118750   8.001517   0.000000   \n",
       "6   8.154443  10.614700   7.331808   9.302065   8.782233   6.698692   \n",
       "7  11.864555  10.743154   8.872531   8.922401   7.583012   9.211954   \n",
       "8   9.907902  10.086777   7.077516   7.020425   7.380909   6.967386   \n",
       "9  11.488875   9.932094   8.887748   8.354350   6.010408   8.258538   \n",
       "\n",
       "           6          7          8          9  \n",
       "0   8.154443  11.864555   9.907902  11.488875  \n",
       "1  10.614700  10.743154  10.086777   9.932094  \n",
       "2   7.331808   8.872531   7.077516   8.887748  \n",
       "3   9.302065   8.922401   7.020425   8.354350  \n",
       "4   8.782233   7.583012   7.380909   6.010408  \n",
       "5   6.698692   9.211954   6.967386   8.258538  \n",
       "6   0.000000  10.888237   8.587222  10.440004  \n",
       "7  10.888237   0.000000   8.467785   5.426474  \n",
       "8   8.587222   8.467785   0.000000   6.401166  \n",
       "9  10.440004   5.426474   6.401166   0.000000  "
      ]
     },
     "execution_count": 4,
     "metadata": {},
     "output_type": "execute_result"
    }
   ],
   "source": [
    "# calculate pairwise distances\n",
    "pd.DataFrame(squareform(pdist(centers, 'euclidean')))"
   ]
  },
  {
   "cell_type": "markdown",
   "metadata": {
    "colab_type": "text",
    "id": "PLAgD0m4uTqq"
   },
   "source": [
    "## 2 Implement and evaluate the simpliest classifier\n"
   ]
  },
  {
   "cell_type": "code",
   "execution_count": 5,
   "metadata": {
    "colab": {
     "base_uri": "https://localhost:8080/",
     "height": 51
    },
    "colab_type": "code",
    "id": "IAbab5j9uTqx",
    "outputId": "64283272-1011-447a-b7bb-8db8e678d325"
   },
   "outputs": [
    {
     "name": "stdout",
     "output_type": "stream",
     "text": [
      "Training Accuracy 0.8635032220269478\n",
      "Test Accuracy 0.804\n"
     ]
    }
   ],
   "source": [
    "train_preds = list(pairwise_distances(train_in_df, centers).argmin(axis = 1))\n",
    "train_acc = sum(train_out_df.iloc[:,0] == train_preds)/len(train_in_df)\n",
    "\n",
    "test_preds = list(pairwise_distances(test_in_df, centers).argmin(axis = 1))\n",
    "test_acc = sum(test_out_df.iloc[:,0] == test_preds)/len(test_in_df)\n",
    "\n",
    "print(\"Training Accuracy {}\".format(train_acc))\n",
    "print(\"Test Accuracy {}\".format(test_acc))"
   ]
  },
  {
   "cell_type": "markdown",
   "metadata": {
    "colab_type": "text",
    "id": "SGyoScWEuTq6"
   },
   "source": [
    "### 2.1 Apply simple_classifier to training set"
   ]
  },
  {
   "cell_type": "code",
   "execution_count": 6,
   "metadata": {
    "colab": {
     "base_uri": "https://localhost:8080/",
     "height": 663
    },
    "colab_type": "code",
    "id": "mq24FHXruTq8",
    "outputId": "569246b1-734f-47a7-dd6c-2f28a4485f79"
   },
   "outputs": [],
   "source": [
    "# create confusion matrix\n",
    "cm_train = confusion_matrix(train_out_df, train_preds).astype(int)\n",
    "cm_test = confusion_matrix(test_out_df, test_preds)"
   ]
  },
  {
   "cell_type": "markdown",
   "metadata": {
    "colab_type": "text",
    "id": "I47FoDTquTrE"
   },
   "source": [
    "### 2.2 Rerun the code using alternative distance measures"
   ]
  },
  {
   "cell_type": "code",
   "execution_count": 7,
   "metadata": {
    "colab": {
     "base_uri": "https://localhost:8080/",
     "height": 111
    },
    "colab_type": "code",
    "id": "kqyzZV9XuTrG",
    "outputId": "2beb7444-abf3-48b5-dbe0-09f0e7cd9869"
   },
   "outputs": [
    {
     "data": {
      "text/html": [
       "<div>\n",
       "<style scoped>\n",
       "    .dataframe tbody tr th:only-of-type {\n",
       "        vertical-align: middle;\n",
       "    }\n",
       "\n",
       "    .dataframe tbody tr th {\n",
       "        vertical-align: top;\n",
       "    }\n",
       "\n",
       "    .dataframe thead th {\n",
       "        text-align: right;\n",
       "    }\n",
       "</style>\n",
       "<table border=\"1\" class=\"dataframe\">\n",
       "  <thead>\n",
       "    <tr style=\"text-align: right;\">\n",
       "      <th></th>\n",
       "      <th>cosine</th>\n",
       "      <th>euclidean</th>\n",
       "      <th>l1</th>\n",
       "      <th>mahalanobis</th>\n",
       "      <th>chebyshev</th>\n",
       "    </tr>\n",
       "  </thead>\n",
       "  <tbody>\n",
       "    <tr>\n",
       "      <th>train</th>\n",
       "      <td>0.860574</td>\n",
       "      <td>0.863503</td>\n",
       "      <td>0.765671</td>\n",
       "      <td>0.96075</td>\n",
       "      <td>0.842414</td>\n",
       "    </tr>\n",
       "    <tr>\n",
       "      <th>test</th>\n",
       "      <td>0.799000</td>\n",
       "      <td>0.804000</td>\n",
       "      <td>0.721000</td>\n",
       "      <td>0.72100</td>\n",
       "      <td>0.784000</td>\n",
       "    </tr>\n",
       "  </tbody>\n",
       "</table>\n",
       "</div>"
      ],
      "text/plain": [
       "         cosine  euclidean        l1  mahalanobis  chebyshev\n",
       "train  0.860574   0.863503  0.765671      0.96075   0.842414\n",
       "test   0.799000   0.804000  0.721000      0.72100   0.784000"
      ]
     },
     "execution_count": 7,
     "metadata": {},
     "output_type": "execute_result"
    }
   ],
   "source": [
    "# create list of distance measurments\n",
    "#Question: is our center computed with Euclidean distance in mind?!\n",
    "metrics = [\"cosine\", \"euclidean\", \"l1\", \"mahalanobis\", \"chebyshev\"]\n",
    "train_acc_list = []\n",
    "test_acc_list = []\n",
    "\n",
    "for metric in metrics:\n",
    "    train_preds = list(pairwise_distances(train_in_df, centers, metric = metric).argmin(axis = 1))\n",
    "    train_acc = sum(train_out_df.iloc[:,0] == train_preds)/len(train_in_df)\n",
    "    \n",
    "    test_preds = list(pairwise_distances(test_in_df, centers, metric = metric).argmin(axis = 1))\n",
    "    test_acc = sum(test_out_df.iloc[:,0] == test_preds)/len(test_in_df)\n",
    "\n",
    "    train_acc_list.append(train_acc)\n",
    "    test_acc_list.append(test_acc)\n",
    "    \n",
    "pd.DataFrame([train_acc_list, test_acc_list], columns = metrics, index = [\"train\", \"test\"])"
   ]
  },
  {
   "cell_type": "markdown",
   "metadata": {
    "colab_type": "text",
    "id": "C8d1zLDPuTrL"
   },
   "source": [
    "## 3 Implement a multi-class perceptron algorithm"
   ]
  },
  {
   "cell_type": "markdown",
   "metadata": {
    "colab_type": "text",
    "id": "B_ZuYJ87uTrM"
   },
   "source": [
    "### 3.1 Implementation of multi-class perceptron algorithm from slide 36"
   ]
  },
  {
   "cell_type": "code",
   "execution_count": 6,
   "metadata": {
    "colab": {},
    "colab_type": "code",
    "id": "YlwO0XiyuTrR"
   },
   "outputs": [],
   "source": [
    "class MC_Perceptron:\n",
    "    \"\"\"Multilayer Perceptron Class\"\"\"\n",
    "    def __init__(self, max_epochs = 100):\n",
    "        \"\"\"init method that takes number of epochs as input, defaults to 100.\"\"\"\n",
    "        self.max_epochs = max_epochs\n",
    "\n",
    "    def fit_model(self, X, y):\n",
    "        \"\"\"Train the Multi-Class Perceptron algorithm \n",
    "    \n",
    "        Each epoch of training, the dot product between the weights and each input vector is taken.\n",
    "        For a misclassified example, the weigths of the corresponding nodes which are activated more then \n",
    "        the true node are updated by subtracting the input vector. The weights of the true node of a \n",
    "        misclassified example are updated by adding the input vector. The weights of all other nodes are \n",
    "        left unchanged. If there are no more misclassified examples, the iterative algorithm stops and \n",
    "        the final weight vector should be stable.\n",
    "    \n",
    "        input:\n",
    "        features = training data, array like\n",
    "        labels = training labels, array like\n",
    "    \n",
    "        output:\n",
    "        errors = list of misclassified examples per epoch\n",
    "        epoch = number of epochs until convergence\n",
    "        weights = final weights, array like\n",
    "        \"\"\"\n",
    "        # initialize features + bias, adds vector as first column\n",
    "        inputs = np.hstack((np.ones((X.shape[0], 1)), X))\n",
    "    \n",
    "        # initialize weights randomly with mean 0 and range [-1, 1]\n",
    "        # 2 for scaling of uniform distribution, -1 for shift\n",
    "        weights = 2 * np.random.random_sample((X.shape[1] + 1, 10)) - 1\n",
    "    \n",
    "        # initialize variables\n",
    "        N = len(X)\n",
    "        errors = []\n",
    "        epoch = 0\n",
    "    \n",
    "        # calculate outputs and update weights     \n",
    "        while epoch < self.max_epochs:\n",
    "            errors_count = 0\n",
    "            for i in range(N):\n",
    "                outputs = softmax(np.dot(inputs[i], weights)) #computes softmax of dotproduct \n",
    "                actual_cat = int(y[i])\n",
    "                actual_val = outputs[actual_cat]              #values of output layer for real class\n",
    "                pred = np.argmax(outputs)                     #prediction is maximum value of output vector\n",
    "                if pred != actual_cat:\n",
    "                    errors_count += 1\n",
    "                    over_activated = outputs > actual_val     #creates boolean index\n",
    "                    weights[:,over_activated] = np.subtract(weights[:,over_activated].T, inputs[i]).T #subtracts x from weights\n",
    "                    weights[:,actual_cat] += inputs[i]\n",
    "            errors.append(errors_count)        \n",
    "            epoch += 1\n",
    "            \n",
    "            #leave loop if all classifications are correct\n",
    "            if errors[epoch-1] == 0:\n",
    "                break\n",
    "        \n",
    "        self.fitted_weights = weights\n",
    "        self.epoch_fitting = epoch\n",
    "        self.errors_fitting = errors\n",
    "        return None\n",
    "\n",
    "    def predict(self, X):\n",
    "        \"\"\"\n",
    "        Uses fitted weights to predict labels of X\n",
    "        input: X\n",
    "        output: Predictions\n",
    "        \"\"\"\n",
    "        # features + bias\n",
    "        inputs = np.hstack((np.ones((X.shape[0], 1)), X))\n",
    "\n",
    "        # calculate predictions\n",
    "        preds = np.argmax(np.dot(inputs, self.fitted_weights), axis = 1)\n",
    "    \n",
    "        return preds\n"
   ]
  },
  {
   "cell_type": "code",
   "execution_count": 7,
   "metadata": {
    "colab": {},
    "colab_type": "code",
    "id": "XX1YkYDDuTrU"
   },
   "outputs": [],
   "source": [
    "# convert data into numpy arrays\n",
    "train_in = np.array(train_in_df)\n",
    "train_out = np.array(train_out_df)\n",
    "test_in = np.array(test_in_df)\n",
    "test_out = np.array(test_out_df)"
   ]
  },
  {
   "cell_type": "markdown",
   "metadata": {
    "colab_type": "text",
    "id": "T8IHqZOTxLpT"
   },
   "source": [
    "## 3.2 Implementation of multi-class perceptron algorithm from Géron's Textbook\n",
    "\n"
   ]
  },
  {
   "cell_type": "code",
   "execution_count": 8,
   "metadata": {
    "colab": {},
    "colab_type": "code",
    "id": "aOK_NRrVxUB2"
   },
   "outputs": [],
   "source": [
    "class MC_Perceptron_modified(object):\n",
    "\n",
    "    def __init__(self, lr = 1, max_epochs = 100):\n",
    "        self.lr = lr\n",
    "        self.max_epochs = max_epochs\n",
    "    \n",
    "    def fit_model(self, X, y):\n",
    "        \"\"\"\n",
    "        Train the Multi-Class Perceptron algorithm \n",
    "\n",
    "        Each epoch of training, the dot product between the weights and each input vector is taken.\n",
    "        The Perceptron is fed one training instance at a time, and for each instance it makes its predictions.\n",
    "\n",
    "        input:\n",
    "        X = training data, array like\n",
    "        y = training labels, array like\n",
    "\n",
    "        output:\n",
    "        errors = list of misclassified examples per epoch\n",
    "        epoch = number of epochs until convergence\n",
    "        weights = final weights, array like\n",
    "        \"\"\"\n",
    "        # features + bias\n",
    "        inputs = np.hstack((np.ones((X.shape[0], 1)), X))\n",
    "\n",
    "        # initialize weights randomly with mean 0 and range [-1, 1]\n",
    "        weights = 2 * np.random.random_sample((X.shape[1] + 1, 10)) - 1\n",
    "\n",
    "        # initialize variables\n",
    "        N = len(X)\n",
    "        errors = []\n",
    "        epoch = 0\n",
    "\n",
    "        # calculate outputs and update weights     \n",
    "        while epoch < self.max_epochs:\n",
    "            errors_count = 0\n",
    "            for i in range(N):\n",
    "                xi = np.resize(inputs[i], (257,1))\n",
    "                outputs = np.dot(weights.T, xi)\n",
    "                pred = np.argmax(outputs)\n",
    "                actual = int(y[i])\n",
    "                if pred != actual:\n",
    "                    errors_count += 1\n",
    "                    pred_vec = softmax(outputs)\n",
    "                    true_vec = np.zeros((1,10)).T\n",
    "                    true_vec[int(y[i])] = 1\n",
    "                    difference = true_vec - pred_vec\n",
    "                    delta = self.lr * np.dot(difference, xi.T) \n",
    "                    weights += delta.T\n",
    "            errors.append(errors_count)\n",
    "            epoch += 1\n",
    "            if errors[epoch-1] == 0:\n",
    "                break\n",
    "        \n",
    "        self.fitted_weights = weights\n",
    "        self.epoch_fitting = epoch\n",
    "        self.errors_fitting = errors\n",
    "        return None\n",
    "        \n",
    "    def predict(self, X):\n",
    "        \"\"\"\n",
    "        Classify the input features using the trained weights. \n",
    "        input:\n",
    "        X = array of image vectors\n",
    "        self.weights_fitted = vector of fitted weights from train_weights()\n",
    "\n",
    "        output:\n",
    "        pred = array of predicted classes\n",
    "        \"\"\"\n",
    "        # features + bias\n",
    "        inputs = np.hstack((np.ones((X.shape[0], 1)), X))\n",
    "\n",
    "        # calculate predictions\n",
    "        preds = np.argmax(np.dot(inputs, self.fitted_weights), axis = 1)\n",
    " \n",
    "        return preds"
   ]
  },
  {
   "cell_type": "code",
   "execution_count": 9,
   "metadata": {
    "colab": {},
    "colab_type": "code",
    "id": "PM5n7XbruLVI"
   },
   "outputs": [],
   "source": [
    "#Evaluate both Perceptrons by running them multiple times\n",
    "\n",
    "#Lists for First Model\n",
    "epochs_list_1 = []\n",
    "accuracy_list_1 = []\n",
    "errors_arr_1 = []\n",
    "time_list_1 = []\n",
    "\n",
    "#Lists for Second Model\n",
    "epochs_list_2 = []\n",
    "accuracy_list_2 = []\n",
    "errors_arr_2 = []\n",
    "time_list_2 = []\n",
    "\n",
    "for _ in range(50): #set number of iterations\n",
    "        #First Model\n",
    "        MC_temp = MC_Perceptron()\n",
    "        pre = time.time()\n",
    "        MC_temp.fit_model(train_in, train_out)\n",
    "        time_list_1.append(time.time() - pre)\n",
    "        preds = MC_temp.predict(test_in)\n",
    "        accuracy = np.sum(preds == test_out[:,0])/len(test_out)\n",
    "        epochs_list_1.append(MC_temp.epoch_fitting)\n",
    "        accuracy_list_1.append(accuracy) \n",
    "        errors_arr_1.append(np.array(MC_temp.errors_fitting))\n",
    "\n",
    "        #Second Model\n",
    "        MC_temp = MC_Perceptron_modified()\n",
    "        pre = time.time()\n",
    "        MC_temp.fit_model(train_in, train_out)\n",
    "        time_list_2.append(time.time() - pre) #appends time after fitting\n",
    "        preds = MC_temp.predict(test_in)\n",
    "        accuracy = np.sum(preds == test_out[:,0])/len(test_out)\n",
    "        epochs_list_2.append(MC_temp.epoch_fitting)\n",
    "        accuracy_list_2.append(accuracy)\n",
    "        errors_arr_2.append(np.array(MC_temp.errors_fitting))"
   ]
  },
  {
   "cell_type": "code",
   "execution_count": 14,
   "metadata": {
    "colab": {},
    "colab_type": "code",
    "id": "J6DAVSKbu66f"
   },
   "outputs": [],
   "source": [
    "#pad errors lists with 0's at end so that all have same length\n",
    "padded_arr_list = []\n",
    "for errors_arr in [errors_arr_1, errors_arr_2]:\n",
    "    max_length = 70\n",
    "    padded_list = []\n",
    "    for l in errors_arr:\n",
    "        padded_list.append(np.pad(l, (0, max_length - len(l)), mode = \"edge\" )) \n",
    "    padded_arr_list.append(np.vstack(padded_list))"
   ]
  },
  {
   "cell_type": "code",
   "execution_count": 15,
   "metadata": {
    "colab": {
     "base_uri": "https://localhost:8080/",
     "height": 834
    },
    "colab_type": "code",
    "id": "5aruLD2kwBVP",
    "outputId": "772fbabc-64cb-4b95-897b-29117cbd8229"
   },
   "outputs": [
    {
     "data": {
      "image/png": "[encoded data removed]",
      "text/plain": [
       "<Figure size 864x576 with 1 Axes>"
      ]
     },
     "metadata": {
      "needs_background": "light"
     },
     "output_type": "display_data"
    }
   ],
   "source": [
    "##Plot the lines for both algorithms\n",
    "fig, ax = plt.subplots(1,1, figsize = (12,8))\n",
    "colours = [\"orange\", \"blue\"]\n",
    "#Create patches for legend\n",
    "orange_patch = mpatches.Patch(color='orange', label='Algorithm 1')\n",
    "blue_patch = mpatches.Patch(color='blue', label='Algorithm 2')\n",
    "#loop for two different algorithms\n",
    "for i in range(2):\n",
    "    padded_arr = padded_arr_list[i]\n",
    "    max_err = np.quantile(padded_arr, 0.975, axis = 0) \n",
    "    min_err = np.quantile(padded_arr, 0.025, axis = 0)\n",
    "    ax.fill_between(range(max_length), max_err, min_err,\n",
    "                                  alpha = 0.15,\n",
    "                                  color = colours[i])\n",
    "    ax.plot(range(max_length), np.mean(padded_arr.T, axis = 1), color = colours[i], alpha = 0.9)\n",
    "    ax.set_ylabel('Number of Misclassifications')\n",
    "    ax.set_xlabel('Number of Epochs')\n",
    "    ax.legend(handles = [orange_patch, blue_patch])\n",
    "\n",
    "fig.suptitle(\"Number of Errors vs Epochs during Training \\n of the two Perceptron Algorithms\")\n",
    "#plt.savefig(\"ErrorsVEpochs3.png\")\n",
    "plt.show()"
   ]
  },
  {
   "cell_type": "code",
   "execution_count": 16,
   "metadata": {
    "colab": {
     "base_uri": "https://localhost:8080/",
     "height": 351
    },
    "colab_type": "code",
    "id": "17FB6t_x1HSd",
    "outputId": "f0a291e8-29d9-4cb9-9f7a-1abf7fdaefe0"
   },
   "outputs": [
    {
     "data": {
      "image/png": "[encoded data removed]",
      "text/plain": [
       "<Figure size 576x360 with 2 Axes>"
      ]
     },
     "metadata": {
      "needs_background": "light"
     },
     "output_type": "display_data"
    }
   ],
   "source": [
    "#Plot Predictive Accuracy Boxplots of both algorithms\n",
    "fig, axes = plt.subplots(1,2, figsize = (8,5), sharey=True)\n",
    "names = [\"Algorithm 1\", \"Algorithm 2\"]\n",
    "accuracy_lists = [accuracy_list_1, accuracy_list_2]\n",
    "for i in range(2):\n",
    "    accuracy_list = accuracy_lists[i]\n",
    "    axes[i].boxplot(accuracy_list, widths = 0.5)\n",
    "    axes[i].set_title(names[i])\n",
    "    axes[i].set_ylabel(\"Predictive Accuracy\")\n",
    "    axes[i].set_xticks([], [])\n",
    "      \n",
    "fig.suptitle(\"Predictive Accuracy on Test Set\")\n",
    "#plt.savefig(\"BP3_Accuracy.png\")\n",
    "plt.show()"
   ]
  },
  {
   "cell_type": "code",
   "execution_count": 17,
   "metadata": {
    "colab": {
     "base_uri": "https://localhost:8080/",
     "height": 351
    },
    "colab_type": "code",
    "id": "61TcEXjK1L1f",
    "outputId": "7393aa7b-f68a-4336-dd47-0b5f41c8b383",
    "scrolled": true
   },
   "outputs": [
    {
     "data": {
      "image/png": "[encoded data removed]",
      "text/plain": [
       "<Figure size 576x360 with 2 Axes>"
      ]
     },
     "metadata": {
      "needs_background": "light"
     },
     "output_type": "display_data"
    }
   ],
   "source": [
    "#Plot Epochs boxplots of both algorithms\n",
    "fig, axes = plt.subplots(1,2, figsize = (8, 5), sharey=True)\n",
    "epoch_lists = [epochs_list_1, epochs_list_2]\n",
    "for i in range(2):\n",
    "    epoch_list = epoch_lists[i]\n",
    "    axes[i].boxplot(epoch_list, widths = 0.5)\n",
    "    axes[i].set_title(names[i])\n",
    "    axes[i].set_ylabel(\"Number of Epochs\")\n",
    "    axes[i].set_xticks([], [])\n",
    "fig.suptitle(\"Number of Epochs Until Convergence\")\n",
    "#plt.savefig(\"BP3_Epochs.png\")\n",
    "plt.show()"
   ]
  },
  {
   "cell_type": "code",
   "execution_count": 18,
   "metadata": {},
   "outputs": [
    {
     "data": {
      "image/png": "[encoded data removed]",
      "text/plain": [
       "<Figure size 576x360 with 2 Axes>"
      ]
     },
     "metadata": {
      "needs_background": "light"
     },
     "output_type": "display_data"
    }
   ],
   "source": [
    "#Plot Times of both algorithms\n",
    "fig, axes = plt.subplots(1,2, figsize = (8,5), sharey=True)\n",
    "time_lists = [time_list_1, time_list_2]\n",
    "for i in range(2):\n",
    "    time_list = time_lists[i]\n",
    "    axes[i].boxplot(time_list, widths = 0.5)\n",
    "    axes[i].set_title(names[i])\n",
    "    axes[i].set_ylabel(\"Time in Seconds\")\n",
    "    axes[i].set_xticks([], [])\n",
    "fig.suptitle(\"Time Until Convergence\")\n",
    "#plt.savefig(\"BP3_Time.png\")\n",
    "plt.show()"
   ]
  },
  {
   "cell_type": "markdown",
   "metadata": {
    "colab_type": "text",
    "id": "mnYpiwK4xXBK"
   },
   "source": [
    "# 4 Linear Seperability\n",
    "\n",
    "\n",
    "Implementation of the simple perceptron algorithm"
   ]
  },
  {
   "cell_type": "code",
   "execution_count": 19,
   "metadata": {
    "colab": {},
    "colab_type": "code",
    "id": "E3-JSgRZE676"
   },
   "outputs": [],
   "source": [
    "class Perceptron(object):\n",
    "    def __init__(self, lr = 1, epochs = 100):\n",
    "        self.lr = lr\n",
    "        self.epochs = epochs\n",
    "        \n",
    "    def step_fn(self, x):\n",
    "        return 1 if x >= 0 else 0\n",
    " \n",
    "    def predict(self, x, weights):\n",
    "        z = np.dot(weights.T, x)\n",
    "        a = self.step_fn(z)\n",
    "        return a\n",
    "  \n",
    "    def fit(self, X, y):\n",
    "        # initialize variables\n",
    "        N = len(X)\n",
    "        epoch = 0\n",
    "        errors = []\n",
    "        weights = 2 * np.random.random_sample((X.shape[1] + 1)) - 1\n",
    "        \n",
    "        # calculate predictions and update weights\n",
    "        while epoch < self.epochs:\n",
    "            errors_count = 0\n",
    "            for i in range(N):\n",
    "                x = np.insert(X[i], 0, 1)\n",
    "                yhat = self.predict(x, weights)\n",
    "                e = y[i] - yhat\n",
    "                if e != 0:\n",
    "                    errors_count += 1\n",
    "                weights += self.lr * e * x\n",
    "            errors.append(errors_count)\n",
    "            epoch += 1\n",
    "            if errors[epoch-1] == 0:\n",
    "                break\n",
    "        \n",
    "        self.fitted_weights = weights \n",
    "        self.epoch_fitting = epoch\n",
    "        self.errors_fitting = errors\n",
    "        return None \n",
    "                    "
   ]
  },
  {
   "cell_type": "markdown",
   "metadata": {
    "colab_type": "text",
    "id": "BZx-T8AVIWby"
   },
   "source": [
    "### 4.1 Test all pairs of classes i and j from the training set"
   ]
  },
  {
   "cell_type": "code",
   "execution_count": 20,
   "metadata": {
    "colab": {
     "base_uri": "https://localhost:8080/",
     "height": 359
    },
    "colab_type": "code",
    "id": "lyZP1YStHaVL",
    "outputId": "8cb69443-eb76-4022-dca2-32c3ba8f3fee"
   },
   "outputs": [
    {
     "data": {
      "text/html": [
       "<div>\n",
       "<style scoped>\n",
       "    .dataframe tbody tr th:only-of-type {\n",
       "        vertical-align: middle;\n",
       "    }\n",
       "\n",
       "    .dataframe tbody tr th {\n",
       "        vertical-align: top;\n",
       "    }\n",
       "\n",
       "    .dataframe thead th {\n",
       "        text-align: right;\n",
       "    }\n",
       "</style>\n",
       "<table border=\"1\" class=\"dataframe\">\n",
       "  <thead>\n",
       "    <tr style=\"text-align: right;\">\n",
       "      <th></th>\n",
       "      <th>0</th>\n",
       "      <th>1</th>\n",
       "      <th>2</th>\n",
       "      <th>3</th>\n",
       "      <th>4</th>\n",
       "      <th>5</th>\n",
       "      <th>6</th>\n",
       "      <th>7</th>\n",
       "      <th>8</th>\n",
       "      <th>9</th>\n",
       "    </tr>\n",
       "  </thead>\n",
       "  <tbody>\n",
       "    <tr>\n",
       "      <th>0</th>\n",
       "      <td>0</td>\n",
       "      <td>4</td>\n",
       "      <td>5</td>\n",
       "      <td>2</td>\n",
       "      <td>5</td>\n",
       "      <td>5</td>\n",
       "      <td>6</td>\n",
       "      <td>5</td>\n",
       "      <td>3</td>\n",
       "      <td>3</td>\n",
       "    </tr>\n",
       "    <tr>\n",
       "      <th>1</th>\n",
       "      <td>4</td>\n",
       "      <td>0</td>\n",
       "      <td>3</td>\n",
       "      <td>2</td>\n",
       "      <td>4</td>\n",
       "      <td>2</td>\n",
       "      <td>3</td>\n",
       "      <td>2</td>\n",
       "      <td>4</td>\n",
       "      <td>2</td>\n",
       "    </tr>\n",
       "    <tr>\n",
       "      <th>2</th>\n",
       "      <td>5</td>\n",
       "      <td>3</td>\n",
       "      <td>0</td>\n",
       "      <td>8</td>\n",
       "      <td>16</td>\n",
       "      <td>9</td>\n",
       "      <td>8</td>\n",
       "      <td>6</td>\n",
       "      <td>4</td>\n",
       "      <td>3</td>\n",
       "    </tr>\n",
       "    <tr>\n",
       "      <th>3</th>\n",
       "      <td>2</td>\n",
       "      <td>2</td>\n",
       "      <td>8</td>\n",
       "      <td>0</td>\n",
       "      <td>3</td>\n",
       "      <td>9</td>\n",
       "      <td>5</td>\n",
       "      <td>7</td>\n",
       "      <td>6</td>\n",
       "      <td>5</td>\n",
       "    </tr>\n",
       "    <tr>\n",
       "      <th>4</th>\n",
       "      <td>5</td>\n",
       "      <td>4</td>\n",
       "      <td>16</td>\n",
       "      <td>3</td>\n",
       "      <td>0</td>\n",
       "      <td>7</td>\n",
       "      <td>6</td>\n",
       "      <td>5</td>\n",
       "      <td>6</td>\n",
       "      <td>3</td>\n",
       "    </tr>\n",
       "    <tr>\n",
       "      <th>5</th>\n",
       "      <td>5</td>\n",
       "      <td>2</td>\n",
       "      <td>9</td>\n",
       "      <td>9</td>\n",
       "      <td>7</td>\n",
       "      <td>0</td>\n",
       "      <td>3</td>\n",
       "      <td>5</td>\n",
       "      <td>5</td>\n",
       "      <td>3</td>\n",
       "    </tr>\n",
       "    <tr>\n",
       "      <th>6</th>\n",
       "      <td>6</td>\n",
       "      <td>3</td>\n",
       "      <td>8</td>\n",
       "      <td>5</td>\n",
       "      <td>6</td>\n",
       "      <td>3</td>\n",
       "      <td>0</td>\n",
       "      <td>2</td>\n",
       "      <td>3</td>\n",
       "      <td>3</td>\n",
       "    </tr>\n",
       "    <tr>\n",
       "      <th>7</th>\n",
       "      <td>5</td>\n",
       "      <td>2</td>\n",
       "      <td>6</td>\n",
       "      <td>7</td>\n",
       "      <td>5</td>\n",
       "      <td>5</td>\n",
       "      <td>2</td>\n",
       "      <td>0</td>\n",
       "      <td>4</td>\n",
       "      <td>8</td>\n",
       "    </tr>\n",
       "    <tr>\n",
       "      <th>8</th>\n",
       "      <td>3</td>\n",
       "      <td>4</td>\n",
       "      <td>4</td>\n",
       "      <td>6</td>\n",
       "      <td>6</td>\n",
       "      <td>5</td>\n",
       "      <td>3</td>\n",
       "      <td>4</td>\n",
       "      <td>0</td>\n",
       "      <td>4</td>\n",
       "    </tr>\n",
       "    <tr>\n",
       "      <th>9</th>\n",
       "      <td>3</td>\n",
       "      <td>2</td>\n",
       "      <td>3</td>\n",
       "      <td>5</td>\n",
       "      <td>3</td>\n",
       "      <td>3</td>\n",
       "      <td>3</td>\n",
       "      <td>8</td>\n",
       "      <td>4</td>\n",
       "      <td>0</td>\n",
       "    </tr>\n",
       "  </tbody>\n",
       "</table>\n",
       "</div>"
      ],
      "text/plain": [
       "   0  1   2  3   4  5  6  7  8  9\n",
       "0  0  4   5  2   5  5  6  5  3  3\n",
       "1  4  0   3  2   4  2  3  2  4  2\n",
       "2  5  3   0  8  16  9  8  6  4  3\n",
       "3  2  2   8  0   3  9  5  7  6  5\n",
       "4  5  4  16  3   0  7  6  5  6  3\n",
       "5  5  2   9  9   7  0  3  5  5  3\n",
       "6  6  3   8  5   6  3  0  2  3  3\n",
       "7  5  2   6  7   5  5  2  0  4  8\n",
       "8  3  4   4  6   6  5  3  4  0  4\n",
       "9  3  2   3  5   3  3  3  8  4  0"
      ]
     },
     "execution_count": 20,
     "metadata": {},
     "output_type": "execute_result"
    }
   ],
   "source": [
    "epochs = []\n",
    "\n",
    "for i,j in combinations(range(10), 2):\n",
    "    \n",
    "    # create all combinations of classes i and j\n",
    "    classes = [i,j]\n",
    "\n",
    "    # select sets of images that only belong to classes i and j \n",
    "    X = np.array(train_in_df.loc[train_out_df[\"Label\"].isin(classes)])\n",
    "    y = np.array(train_out_df.loc[train_out_df['Label'].isin(classes)])\n",
    "\n",
    "    # set class i to 1 and class j to 0             \n",
    "    y = np.where(y == i, 1, 0)   \n",
    "\n",
    "    # train the algorithm \n",
    "    perceptron = Perceptron()\n",
    "    perceptron.fit(X, y)\n",
    "    epochs.append(perceptron.epoch_fitting)\n",
    "\n",
    "\n",
    "pd.DataFrame(squareform(epochs))"
   ]
  },
  {
   "cell_type": "markdown",
   "metadata": {
    "colab_type": "text",
    "id": "EEn1cmjCJiWq"
   },
   "source": [
    "### 4.2 Test all sets of images from class $i$ (for $i$ in $\\{0,1,...,9\\}$) against all remaining classes"
   ]
  },
  {
   "cell_type": "code",
   "execution_count": 21,
   "metadata": {
    "colab": {
     "base_uri": "https://localhost:8080/",
     "height": 34
    },
    "colab_type": "code",
    "id": "MYp8S3JAKADZ",
    "outputId": "e8361f34-bc37-4443-c43e-1f65bf6ba491"
   },
   "outputs": [
    {
     "data": {
      "text/plain": [
       "[26, 4, 73, 34, 72, 32, 23, 28, 106, 37]"
      ]
     },
     "execution_count": 21,
     "metadata": {},
     "output_type": "execute_result"
    }
   ],
   "source": [
    "epochs = []\n",
    "\n",
    "for i in range(10): #Check all 10 digits\n",
    "    \n",
    "    # set class i to 1, all other classes to 0\n",
    "    y = np.where(train_out == i, 1, 0)\n",
    "    \n",
    "    # train the algorithm\n",
    "    perceptron = Perceptron(epochs = 200)\n",
    "    perceptron.fit(train_in, y)\n",
    "    epochs.append(perceptron.epoch_fitting)\n",
    "    \n",
    "epochs"
   ]
  },
  {
   "cell_type": "markdown",
   "metadata": {
    "colab_type": "text",
    "id": "KIx5nRFixp4U"
   },
   "source": [
    "# 5 Implementing the XOR Network and Gradient Descent"
   ]
  },
  {
   "cell_type": "code",
   "execution_count": 22,
   "metadata": {
    "colab": {},
    "colab_type": "code",
    "id": "pCMTa1m2x0lJ"
   },
   "outputs": [],
   "source": [
    "#Classes of activation functions and their derivatives\n",
    "class activations():\n",
    "    def sigmoid(self, x):\n",
    "        return 1/(1 + np.exp(-x))\n",
    "    \n",
    "    def tanh(self, x):\n",
    "        return np.tanh(x)\n",
    "\n",
    "class activations_derivatives():\n",
    "    def sigmoid(self, x):\n",
    "        return x * (1 - x)\n",
    "    \n",
    "    def tanh(self, x):\n",
    "        return 1 - np.tanh(x)*np.tanh(x)"
   ]
  },
  {
   "cell_type": "code",
   "execution_count": 23,
   "metadata": {
    "colab": {},
    "colab_type": "code",
    "id": "JNO4rGmDx_OY"
   },
   "outputs": [],
   "source": [
    "class Xor_net():\n",
    "    \"\"\"Class that can train at Xor Net using backpropagation.\"\"\"\n",
    "\n",
    "    def __init__(self, epochs = \"1000\",\n",
    "                 stepsize = \"0.05\",\n",
    "                 activation_function = \"sigmoid\",\n",
    "                 random_interval = (0,1)):\n",
    "        self.epochs = epochs\n",
    "        self.stepsize = stepsize\n",
    "        self.activation_function = getattr(activations, activation_function)\n",
    "        self.activation_derivative = getattr(activations_derivatives,\n",
    "                                             activation_function\n",
    "                                             )\n",
    "        self.weights = self.initialize_random_weights(random_interval)\n",
    "        self.training_mse= []\n",
    "        self.training_error_count = []\n",
    "    \n",
    "    def initialize_random_weights(self, interval = (0,1)):\n",
    "        #Random weights and bias initialization\n",
    "        k = interval[1] - interval[0]   #multiplicator for uniform distribution\n",
    "        s = interval[0]                 #shifting center of uniform distribution\n",
    "        hidden_weights = k*np.random.uniform(size=(2,2)) + s\n",
    "        hidden_bias = k*np.random.uniform(size=(1,2)) + s\n",
    "        output_weights = k*np.random.uniform(size=(2,1)) + s\n",
    "        output_bias = k*np.random.uniform(size=(1,1)) + s\n",
    "        return(hidden_weights, hidden_bias, output_weights, output_bias)\n",
    "    \n",
    "    def fit(self, X, y):\n",
    "        hidden_weights, hidden_bias, output_weights, output_bias = self.weights\n",
    "        for _ in range(self.epochs):\n",
    "        \n",
    "            hidden_output, predicted_output = self.forward(X)\n",
    "            \n",
    "            d_predicted_output, d_hidden = self.grdmse(predicted_output,\n",
    "                                                       hidden_output, y)\n",
    "            \n",
    "            #Updating Weights and Biases\n",
    "            output_weights += hidden_output.T.dot(d_predicted_output) * self.stepsize\n",
    "            output_bias += np.sum(d_predicted_output,axis=0,\n",
    "                                  keepdims=True) * self.stepsize\n",
    "            hidden_weights += X.T.dot(d_hidden) * self.stepsize\n",
    "            hidden_bias += np.sum(d_hidden,axis=0,keepdims=True) * self.stepsize\n",
    "            self.weights = (hidden_weights, hidden_bias, output_weights, output_bias)\n",
    "        \n",
    "        return predicted_output\n",
    "    \n",
    "    def forward(self, inputs):\n",
    "        #Method for Forward Pass\n",
    "        hidden_weights, hidden_bias, output_weights, output_bias = self.weights\n",
    "        hidden_activation = np.dot(inputs,hidden_weights)\n",
    "        hidden_activation += hidden_bias\n",
    "        hidden_output = self.activation_function(self, hidden_activation)\n",
    "\n",
    "        output_activation = np.dot(hidden_output,output_weights)\n",
    "        output_activation += output_bias\n",
    "        predicted_output = self.activation_function(self, output_activation)\n",
    "        return hidden_output, predicted_output\n",
    "    \n",
    "    def grdmse(self, predicted_output, hidden_output, y):\n",
    "        #method for backward pass / gradient descent\n",
    "        hidden_weights, hidden_bias, output_weights, output_bias = self.weights\n",
    "        error = y - predicted_output\n",
    "        self.training_mse.append(self.mse(predicted_output, y))\n",
    "        self.training_error_count.append(np.sum(np.round(predicted_output) != y))\n",
    "        d_predicted_output = error * self.activation_derivative(self, predicted_output)\n",
    "        error_hidden = d_predicted_output.dot(output_weights.T)\n",
    "        d_hidden = error_hidden * self.activation_derivative(self, hidden_output)\n",
    "        return d_predicted_output, d_hidden\n",
    "    \n",
    "    def mse(self, predicted_output, y):\n",
    "        #method to compute mse\n",
    "        error = mean_squared_error(predicted_output, y)\n",
    "        return(error)"
   ]
  },
  {
   "cell_type": "code",
   "execution_count": 24,
   "metadata": {
    "colab": {},
    "colab_type": "code",
    "id": "-yTdxJ4Dy0wt"
   },
   "outputs": [],
   "source": [
    "#Create Data \n",
    "X = np.array([[0,0],[0,1],[1,0],[1,1]])\n",
    "y = np.array([[0],[1],[1],[0]])"
   ]
  },
  {
   "cell_type": "code",
   "execution_count": null,
   "metadata": {
    "colab": {},
    "colab_type": "code",
    "id": "KXBD0tF2zAP9"
   },
   "outputs": [
    {
     "name": "stdout",
     "output_type": "stream",
     "text": [
      "1 done\n",
      "0.5 done\n",
      "0.2 done\n"
     ]
    }
   ],
   "source": [
    "#train xor_net using Sigmoid and tanh activation with four different stepsizes\n",
    "n = 30000 \n",
    "etas = [1, 0.5, 0.2, 0.1] #sets stepsizes\n",
    "mse_sigmoid_list = []\n",
    "mse_tanh_list = []\n",
    "err_count_sigmoid_list = []\n",
    "err_count_tanh_list = []\n",
    "\n",
    "for eta in etas: #loop over stepsizes\n",
    "    mse_sigmoid_arr = []\n",
    "    mse_tanh_arr = []\n",
    "    err_count_sigmoid = []\n",
    "    err_count_tanh = []\n",
    "\n",
    "    for _ in range(50): #Number of iterations\n",
    "        #train Xor_net 20 times for both activation functions and append their mse and error counts\n",
    "        XN_sigmoid = Xor_net(epochs=n, stepsize=eta, activation_function=\"sigmoid\") #default interval is [0,1]\n",
    "        XN_sigmoid.fit(X, y)\n",
    "        mse_sigmoid_arr.append(XN_sigmoid.training_mse)\n",
    "        err_count_sigmoid.append(XN_sigmoid.training_error_count)\n",
    "    \n",
    "        XN_tanh = Xor_net(epochs=n, stepsize=eta, activation_function=\"tanh\")\n",
    "        XN_tanh.fit(X, y)\n",
    "        mse_tanh_arr.append(XN_tanh.training_mse)\n",
    "        err_count_tanh.append(XN_tanh.training_error_count)\n",
    "\n",
    "    print(eta, \"Done\") #Gives Updates in Between\n",
    "    \n",
    "    #convert lists to arrays\n",
    "    mse_sigmoid_arr = np.array(mse_sigmoid_arr)\n",
    "    mse_tanh_arr = np.array(mse_tanh_arr)\n",
    "    err_count_sigmoid = np.array(err_count_sigmoid)\n",
    "    err_count_tanh = np.array(err_count_tanh)\n",
    "    \n",
    "    mse_sigmoid_list.append(mse_sigmoid_arr)\n",
    "    mse_tanh_list.append(mse_tanh_arr)\n",
    "    err_count_sigmoid_list.append(err_count_sigmoid)\n",
    "    err_count_tanh_list.append(err_count_tanh)"
   ]
  },
  {
   "cell_type": "code",
   "execution_count": null,
   "metadata": {
    "colab": {
     "base_uri": "https://localhost:8080/",
     "height": 681
    },
    "colab_type": "code",
    "id": "3i4SwjqXzQAL",
    "outputId": "2596da5f-2102-498e-a0ed-2cdb849229cc"
   },
   "outputs": [],
   "source": [
    "#Plot comparison of tanh and sigmoid\n",
    "fig, ax = plt.subplots(2, 2, figsize=(10,10), sharex= True)\n",
    "\n",
    "#create patches for legend\n",
    "sigmoid_patch = mpatches.Patch(color='green', label='Sigmoid')\n",
    "tanh_patch = mpatches.Patch(color='red', label='Tanh')\n",
    "\n",
    "ind_combs = [(0,0), (0,1), (1,0), (1,1)] #the four combinations for indexing the axes\n",
    "\n",
    "for i in range(len(etas)):\n",
    "    #plot sigmoid\n",
    "    #calculate 1st and 3rd quantile\n",
    "    sigmoid_max = np.quantile(mse_sigmoid_list[i], 0.975, axis = 0) #change to min/max\n",
    "    sigmoid_min = np.quantile(mse_sigmoid_list[i], 0.025, axis = 0)\n",
    "    #plot area between quantiles\n",
    "    ax[ind_combs[i]].fill_between(range(n), sigmoid_min, sigmoid_max,\n",
    "                                  alpha = 0.3, linestyle = \"--\",\n",
    "                                  color = \"green\")\n",
    "    #plot mean\n",
    "    ax[ind_combs[i]].plot(range(n), np.mean(mse_sigmoid_list[i], axis=0).T, \"green\")\n",
    "\n",
    "    #plot tanh\n",
    "    #calculate 1st and 3rd quantile\n",
    "    tanh_max = np.quantile(mse_tanh_list[i], 0.975, axis = 0)\n",
    "    tanh_min = np.quantile(mse_tanh_list[i], 0.025, axis = 0)\n",
    "    #plot area between quantiles\n",
    "    ax[ind_combs[i]].fill_between(range(n), tanh_min, tanh_max, alpha = 0.3, linestyle = \"--\", color = \"red\")\n",
    "    #plot mean\n",
    "    ax[ind_combs[i]].plot(range(n), np.mean(mse_tanh_list[i], axis=0).T, \"red\")\n",
    "\n",
    "    #setting and naming parameters\n",
    "    ax[ind_combs[i]].set_ylim(0,0.6)\n",
    "    ax[ind_combs[i]].set_ylabel('Mean Squared Error')\n",
    "    ax[ind_combs[i]].set_xlabel('Number of Epochs')\n",
    "    ax[ind_combs[i]].set_title(\"stepsize = {}\".format(etas[i]))\n",
    "    ax[ind_combs[i]].legend(handles = [sigmoid_patch, tanh_patch])\n",
    "    ax[ind_combs[i]].set_xscale(\"log\")\n",
    "\n",
    "\n",
    "fig.suptitle('Training of the XOR Perceptron \\n MSE vs Epochs for Tanh and Sigmoid Activation with Different Stepsizes')\n",
    "#plt.savefig(\"TrainingMSE20k.png\") \n",
    "plt.show()"
   ]
  },
  {
   "cell_type": "code",
   "execution_count": null,
   "metadata": {
    "colab": {
     "base_uri": "https://localhost:8080/",
     "height": 681
    },
    "colab_type": "code",
    "id": "chpK4hrv1c8U",
    "outputId": "2613acf8-ffe4-4787-f235-e2ca7eebc6ea"
   },
   "outputs": [],
   "source": [
    "#Comparison Error Count if Sigmoid and Tanh: Visualize Four different stepsizes\n",
    "fig, ax = plt.subplots(2, 2, figsize=(10,10), sharex= True)\n",
    "\n",
    "#create patches for legend\n",
    "sigmoid_patch = mpatches.Patch(color='green', label='Sigmoid')\n",
    "tanh_patch = mpatches.Patch(color='red', label='Tanh')\n",
    "\n",
    "ind_combs = [(0,0), (0,1), (1,0), (1,1)]\n",
    "for i in range(len(etas)): \n",
    "    #plot sigmoid\n",
    "    #calculate quantiles\n",
    "    sigmoid_max = np.quantile(err_count_sigmoid_list[i], 0.975, axis = 0) \n",
    "    sigmoid_min = np.quantile(err_count_sigmoid_list[i], 0.025, axis = 0)\n",
    "\n",
    "    #fill area between quantiles\n",
    "    ax[ind_combs[i]].fill_between(range(n), sigmoid_min, sigmoid_max,\n",
    "                                  alpha = 0.3, linestyle = \"--\",\n",
    "                                  color = \"green\")\n",
    "    #plot mean\n",
    "    ax[ind_combs[i]].plot(range(n), np.mean(err_count_sigmoid_list[i],\n",
    "                          axis=0).T, \"green\"\n",
    "    )\n",
    "    #plot tanh\n",
    "    tanh_max = np.quantile(err_count_tanh_list[i], 0.975, axis = 0)\n",
    "    tanh_min = np.quantile(err_count_tanh_list[i], 0.025, axis = 0)\n",
    "    ax[ind_combs[i]].fill_between(range(n), tanh_min, tanh_max, alpha = 0.3, linestyle = \"--\", color = \"red\")\n",
    "    ax[ind_combs[i]].plot(range(n), np.mean(err_count_tanh_list[i], axis=0).T, \"red\")\n",
    "    ax[ind_combs[i]].set_ylim(0,4)\n",
    "\n",
    "    ax[ind_combs[i]].set_ylabel('Error Count')\n",
    "    ax[ind_combs[i]].set_xlabel('Number of Epochs')\n",
    "    ax[ind_combs[i]].set_title(\"stepsize = {}\".format(etas[i]))\n",
    "    ax[ind_combs[i]].legend(handles = [sigmoid_patch, tanh_patch])\n",
    "    ax[ind_combs[i]].set_xscale(\"log\")\n",
    "\n",
    "\n",
    "fig.suptitle('Training of the XOR Perceptron \\n Error Count vs Epochs for Tanh and Sigmoid Activation with Different Stepsizes')\n",
    "#plt.savefig(\"TrainigErrorCount20k.png\")\n",
    "plt.show()"
   ]
  },
  {
   "cell_type": "code",
   "execution_count": null,
   "metadata": {
    "colab": {},
    "colab_type": "code",
    "id": "gvA3SmIF2LgZ"
   },
   "outputs": [],
   "source": [
    "#Comparison of tanh with two different intervals \n",
    "mse_tanh_arr_1 = [] #interval [0,1]\n",
    "mse_tanh_arr_2 = [] #interval [-1,1]\n",
    "\n",
    "for _ in range(50): #number of iterations\n",
    "    XN_tanh = Xor_net(epochs=n, stepsize=0.5, activation_function=\"tanh\")\n",
    "    XN_tanh.fit(X, y)\n",
    "    mse_tanh_arr_1.append(XN_tanh.training_mse)\n",
    "    XN_tanh = Xor_net(epochs=n, stepsize=eta, activation_function=\"tanh\",\n",
    "                      random_interval=(-1,1)\n",
    "                      )\n",
    "    XN_tanh.fit(X, y)\n",
    "    mse_tanh_arr_2.append(XN_tanh.training_mse)\n",
    "    if _ % 10 == 0: #prints current status in steps of 10\n",
    "        print(_)\n",
    "    \n",
    "mse_tanh_arr_1 = np.array(mse_tanh_arr_1)\n",
    "mse_tanh_arr_2 = np.array(mse_tanh_arr_2)"
   ]
  },
  {
   "cell_type": "code",
   "execution_count": null,
   "metadata": {
    "colab": {
     "base_uri": "https://localhost:8080/",
     "height": 640
    },
    "colab_type": "code",
    "id": "z7OHeg2H2ZLS",
    "outputId": "99dc0983-12a5-4ca1-e1d9-18c015e839a4"
   },
   "outputs": [],
   "source": [
    "#Comparison of two tanh intervals: Plotting\n",
    "fig, ax = plt.subplots(figsize=(12,8))\n",
    "\n",
    "#creat patches for legend\n",
    "act1_patch = mpatches.Patch(color='blue', label='[0, 1]')\n",
    "act2_patch = mpatches.Patch(color='orange', label='[-1,1]')\n",
    "\n",
    "#plot interval 1\n",
    "int1_q3 = np.quantile(mse_tanh_arr_1, 0.975, axis = 0) \n",
    "int1_q1 = np.quantile(mse_tanh_arr_1, 0.025, axis = 0)\n",
    "\n",
    "#fill area between quantiles\n",
    "ax.fill_between(range(n), int1_q1, int1_q3,\n",
    "                                  alpha = 0.3, linestyle = \"--\",\n",
    "                                  color = \"blue\")\n",
    "#plot mean\n",
    "ax.plot(range(n), np.mean(mse_tanh_arr_1, axis=0).T, \"blue\", alpha = 0.8)\n",
    "\n",
    "#plot interval 2\n",
    "int2_q3 = np.quantile(mse_tanh_arr_2, 0.975, axis = 0) \n",
    "int2_q1 = np.quantile(mse_tanh_arr_2, 0.025, axis = 0)\n",
    "\n",
    "#fill area between quantiles\n",
    "ax.fill_between(range(n), int2_q1, int2_q3,\n",
    "                                  alpha = 0.3, linestyle = \"--\",\n",
    "                                  color = \"orange\")\n",
    "#plot mean\n",
    "ax.plot(range(n), np.mean(mse_tanh_arr_2, axis=0).T, \"orange\")\n",
    "\n",
    "plt.ylabel('Mean Squared Error')\n",
    "plt.ylim(0,0.8)\n",
    "plt.xlabel('Number of Epochs')\n",
    "plt.legend(handles = [act1_patch, act2_patch]) \n",
    "plt.xscale(\"log\")\n",
    "plt.title('Training of the XOR Perceptron \\n MSE vs Epochs for Tanh activation with Different Random Initializations')\n",
    "#plt.savefig(\"TanhInit.png\")\n",
    "plt.show()\n"
   ]
  },
  {
   "cell_type": "markdown",
   "metadata": {
    "colab_type": "text",
    "id": "nG-3PLSU5DgR"
   },
   "source": [
    "## 5.2 Bruteforcing Xor"
   ]
  },
  {
   "cell_type": "code",
   "execution_count": null,
   "metadata": {
    "colab": {},
    "colab_type": "code",
    "id": "wfJK61cO5HcQ"
   },
   "outputs": [],
   "source": [
    "def Get_Random_Weights(interval):\n",
    "    #Random weights and bias initialization\n",
    "    k = interval[1] - interval[0]\n",
    "    s = interval[0]\n",
    "    hidden_weights = k*np.random.uniform(size=(2,2)) + s\n",
    "    hidden_bias = k*np.random.uniform(size=(1,2)) + s\n",
    "    output_weights = k*np.random.uniform(size=(2,1)) + s\n",
    "    output_bias = k*np.random.uniform(size=(1,1)) + s\n",
    "    return(hidden_weights, hidden_bias, output_weights, output_bias)\n",
    "   \n",
    "def Forward(inputs, y, weights):\n",
    "    hidden_weights, hidden_bias, output_weights, output_bias = weights\n",
    "    hidden_layer_activation = np.dot(inputs,hidden_weights)\n",
    "    hidden_layer_activation += hidden_bias\n",
    "    hidden_layer_output = activations().sigmoid(x = hidden_layer_activation)\n",
    "\n",
    "    output_layer_activation = np.dot(hidden_layer_output,output_weights)\n",
    "    output_layer_activation += output_bias\n",
    "    predicted_output = activations().sigmoid(output_layer_activation)\n",
    "    \n",
    "    return np.sum(np.round(predicted_output) != y)    \n",
    "        \n",
    "def xor_bruteforcing(X,y,interval = (-2, 2)):\n",
    "    error = None\n",
    "    epoch_count = 0\n",
    "    while error != 0:\n",
    "        weights = Get_Random_Weights(interval)\n",
    "        error = Forward(X,y, weights)\n",
    "        epoch_count += 1\n",
    "        \n",
    "    return weights, epoch_count"
   ]
  },
  {
   "cell_type": "code",
   "execution_count": null,
   "metadata": {
    "colab": {},
    "colab_type": "code",
    "id": "_GT4_quN6zqI"
   },
   "outputs": [],
   "source": [
    "#Evaluating the Bruteforce\n",
    "epoch_count_list = []\n",
    "\n",
    "for _ in range(50): #Number of Repetitions\n",
    "    #ten iterations of random weights in interval [-2, 2]\n",
    "    weights_bf, epoch_count_bf = xor_bruteforcing(X,y)\n",
    "    epoch_count_list.append(epoch_count_bf)"
   ]
  },
  {
   "cell_type": "raw",
   "metadata": {},
   "source": []
  },
  {
   "cell_type": "code",
   "execution_count": null,
   "metadata": {
    "colab": {
     "base_uri": "https://localhost:8080/",
     "height": 369
    },
    "colab_type": "code",
    "id": "7LLMzaN97Hj2",
    "outputId": "5c71e901-391a-445f-c5f6-86c1632b3551"
   },
   "outputs": [],
   "source": [
    "#Plotting the Boxplot for the Brute for evaluation\n",
    "fig, ax = plt.subplots(figsize = (4,5))\n",
    "ax.boxplot(epoch_count_list)\n",
    "ax.set_xticklabels(\"\")\n",
    "ax.set_title(\"Number of Epochs \\n for Random Weights in XOR Network\")\n",
    "ax.set_ylabel(\"Number of Epochs\")\n",
    "plt.xticks([], [])\n",
    "plt.tight_layout()\n",
    "#plt.savefig(\"BP_Bruteforce.png\")\n",
    "plt.show()"
   ]
  }
 ],
 "metadata": {
  "colab": {
   "collapsed_sections": [],
   "name": "A1_Final.ipynb",
   "provenance": []
  },
  "kernelspec": {
   "display_name": "Python 3",
   "language": "python",
   "name": "python3"
  },
  "language_info": {
   "codemirror_mode": {
    "name": "ipython",
    "version": 3
   },
   "file_extension": ".py",
   "mimetype": "text/x-python",
   "name": "python",
   "nbconvert_exporter": "python",
   "pygments_lexer": "ipython3",
   "version": "3.7.3"
  }
 },
 "nbformat": 4,
 "nbformat_minor": 1
}
